{
 "cells": [
  {
   "cell_type": "code",
   "execution_count": 1,
   "id": "a4817d62-d7dc-42b4-81a9-8f7168aa4473",
   "metadata": {
    "tags": []
   },
   "outputs": [],
   "source": [
    "import numpy as np\n",
    "# import streamlit as st\n",
    "import cv2\n",
    "from keras.models import load_model"
   ]
  },
  {
   "cell_type": "code",
   "execution_count": 6,
   "id": "caf8935a-ba2a-4d7a-bc54-57fb5514ef36",
   "metadata": {},
   "outputs": [],
   "source": [
    "# loading the model\n",
    "model = load_model('GitHub/Dog_Breed/dog_breed.h5')"
   ]
  },
  {
   "cell_type": "code",
   "execution_count": 3,
   "id": "4f3dce2d-81e7-4e54-ba71-383eaafaa25d",
   "metadata": {},
   "outputs": [
    {
     "name": "stdout",
     "output_type": "stream",
     "text": [
      " Volume in drive C is Windows\n",
      " Volume Serial Number is FEF2-DE65\n",
      "\n",
      " Directory of C:\\Users\\DAVIDSONITY\\Desktop\\Python\\PROJECTS!!!\n",
      "\n",
      "06/17/2022  07:20 PM    <DIR>          .\n",
      "06/17/2022  07:20 PM    <DIR>          ..\n",
      "06/17/2022  07:20 PM    <DIR>          .ipynb_checkpoints\n",
      "06/12/2022  12:41 AM    <DIR>          archive\n",
      "06/13/2022  07:26 PM    <DIR>          Certificate_authetication\n",
      "03/20/2022  12:42 PM    <DIR>          DataBase Work\n",
      "06/15/2022  06:48 PM           380,400 Dog_Breed_Prediction.ipynb\n",
      "06/17/2022  07:20 PM    <DIR>          GitHub\n",
      "05/09/2022  01:56 PM    <DIR>          images\n",
      "06/11/2022  10:27 AM    <DIR>          instagram_liked_post\n",
      "06/08/2022  07:03 PM        96,520,029 model.pkl\n",
      "06/12/2022  12:30 AM    <DIR>          Notebooks\n",
      "06/11/2022  08:08 AM           466,521 Pan_Card_Tampering.ipynb\n",
      "06/11/2022  02:08 PM    <DIR>          sales_data_analysis\n",
      "03/18/2022  05:23 PM    <DIR>          Web Scraping\n",
      "06/12/2022  12:46 AM    <DIR>          Zomato\n",
      "06/08/2022  05:31 PM           942,750 zomato_df.csv\n",
      "               4 File(s)     98,309,700 bytes\n",
      "              13 Dir(s)  333,076,193,280 bytes free\n"
     ]
    }
   ],
   "source": [
    "!dir"
   ]
  },
  {
   "cell_type": "code",
   "execution_count": null,
   "id": "8724216a-eb48-4698-a606-8ddae0010ed7",
   "metadata": {},
   "outputs": [],
   "source": []
  }
 ],
 "metadata": {
  "kernelspec": {
   "display_name": "Python 3 (ipykernel)",
   "language": "python",
   "name": "python3"
  },
  "language_info": {
   "codemirror_mode": {
    "name": "ipython",
    "version": 3
   },
   "file_extension": ".py",
   "mimetype": "text/x-python",
   "name": "python",
   "nbconvert_exporter": "python",
   "pygments_lexer": "ipython3",
   "version": "3.9.7"
  }
 },
 "nbformat": 4,
 "nbformat_minor": 5
}
